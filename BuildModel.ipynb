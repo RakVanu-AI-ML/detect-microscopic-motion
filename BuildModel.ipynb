{
 "cells": [
  {
   "cell_type": "code",
   "execution_count": null,
   "metadata": {
    "colab": {
     "base_uri": "https://localhost:8080/"
    },
    "executionInfo": {
     "elapsed": 44931,
     "status": "ok",
     "timestamp": 1663506231144,
     "user": {
      "displayName": "Rakesh Kumar Mishra",
      "userId": "16512964923167946365"
     },
     "user_tz": -330
    },
    "id": "Jg90CLNcsSEU",
    "outputId": "e4bb8116-9964-4c6d-fbe2-d5dcf2d1e7f7"
   },
   "outputs": [
    {
     "name": "stdout",
     "output_type": "stream",
     "text": [
      "Mounted at /content/gdrive\n"
     ]
    }
   ],
   "source": [
    "from google.colab import drive\n",
    "drive.mount('/content/gdrive')"
   ]
  },
  {
   "cell_type": "code",
   "execution_count": null,
   "metadata": {
    "colab": {
     "base_uri": "https://localhost:8080/"
    },
    "executionInfo": {
     "elapsed": 6419,
     "status": "ok",
     "timestamp": 1663506266926,
     "user": {
      "displayName": "Rakesh Kumar Mishra",
      "userId": "16512964923167946365"
     },
     "user_tz": -330
    },
    "id": "1-4Zl9RispZx",
    "outputId": "1c92b956-e1af-48ab-e9d1-83318497dcc4"
   },
   "outputs": [
    {
     "name": "stdout",
     "output_type": "stream",
     "text": [
      "Looking in indexes: https://pypi.org/simple, https://us-python.pkg.dev/colab-wheels/public/simple/\n",
      "Collecting import_ipynb\n",
      "  Downloading import_ipynb-0.1.4-py3-none-any.whl (4.1 kB)\n",
      "Requirement already satisfied: IPython in /usr/local/lib/python3.7/dist-packages (from import_ipynb) (7.9.0)\n",
      "Requirement already satisfied: nbformat in /usr/local/lib/python3.7/dist-packages (from import_ipynb) (5.4.0)\n",
      "Requirement already satisfied: setuptools>=18.5 in /usr/local/lib/python3.7/dist-packages (from IPython->import_ipynb) (57.4.0)\n",
      "Requirement already satisfied: pygments in /usr/local/lib/python3.7/dist-packages (from IPython->import_ipynb) (2.6.1)\n",
      "Requirement already satisfied: traitlets>=4.2 in /usr/local/lib/python3.7/dist-packages (from IPython->import_ipynb) (5.1.1)\n",
      "Requirement already satisfied: pickleshare in /usr/local/lib/python3.7/dist-packages (from IPython->import_ipynb) (0.7.5)\n",
      "Collecting jedi>=0.10\n",
      "  Downloading jedi-0.18.1-py2.py3-none-any.whl (1.6 MB)\n",
      "\u001b[K     |████████████████████████████████| 1.6 MB 8.6 MB/s \n",
      "\u001b[?25hRequirement already satisfied: prompt-toolkit<2.1.0,>=2.0.0 in /usr/local/lib/python3.7/dist-packages (from IPython->import_ipynb) (2.0.10)\n",
      "Requirement already satisfied: pexpect in /usr/local/lib/python3.7/dist-packages (from IPython->import_ipynb) (4.8.0)\n",
      "Requirement already satisfied: decorator in /usr/local/lib/python3.7/dist-packages (from IPython->import_ipynb) (4.4.2)\n",
      "Requirement already satisfied: backcall in /usr/local/lib/python3.7/dist-packages (from IPython->import_ipynb) (0.2.0)\n",
      "Requirement already satisfied: parso<0.9.0,>=0.8.0 in /usr/local/lib/python3.7/dist-packages (from jedi>=0.10->IPython->import_ipynb) (0.8.3)\n",
      "Requirement already satisfied: wcwidth in /usr/local/lib/python3.7/dist-packages (from prompt-toolkit<2.1.0,>=2.0.0->IPython->import_ipynb) (0.2.5)\n",
      "Requirement already satisfied: six>=1.9.0 in /usr/local/lib/python3.7/dist-packages (from prompt-toolkit<2.1.0,>=2.0.0->IPython->import_ipynb) (1.15.0)\n",
      "Requirement already satisfied: fastjsonschema in /usr/local/lib/python3.7/dist-packages (from nbformat->import_ipynb) (2.16.1)\n",
      "Requirement already satisfied: jsonschema>=2.6 in /usr/local/lib/python3.7/dist-packages (from nbformat->import_ipynb) (4.3.3)\n",
      "Requirement already satisfied: jupyter-core in /usr/local/lib/python3.7/dist-packages (from nbformat->import_ipynb) (4.11.1)\n",
      "Requirement already satisfied: typing-extensions in /usr/local/lib/python3.7/dist-packages (from jsonschema>=2.6->nbformat->import_ipynb) (4.1.1)\n",
      "Requirement already satisfied: pyrsistent!=0.17.0,!=0.17.1,!=0.17.2,>=0.14.0 in /usr/local/lib/python3.7/dist-packages (from jsonschema>=2.6->nbformat->import_ipynb) (0.18.1)\n",
      "Requirement already satisfied: importlib-metadata in /usr/local/lib/python3.7/dist-packages (from jsonschema>=2.6->nbformat->import_ipynb) (4.12.0)\n",
      "Requirement already satisfied: attrs>=17.4.0 in /usr/local/lib/python3.7/dist-packages (from jsonschema>=2.6->nbformat->import_ipynb) (22.1.0)\n",
      "Requirement already satisfied: importlib-resources>=1.4.0 in /usr/local/lib/python3.7/dist-packages (from jsonschema>=2.6->nbformat->import_ipynb) (5.9.0)\n",
      "Requirement already satisfied: zipp>=3.1.0 in /usr/local/lib/python3.7/dist-packages (from importlib-resources>=1.4.0->jsonschema>=2.6->nbformat->import_ipynb) (3.8.1)\n",
      "Requirement already satisfied: ptyprocess>=0.5 in /usr/local/lib/python3.7/dist-packages (from pexpect->IPython->import_ipynb) (0.7.0)\n",
      "Installing collected packages: jedi, import-ipynb\n",
      "Successfully installed import-ipynb-0.1.4 jedi-0.18.1\n"
     ]
    }
   ],
   "source": [
    "!pip install import_ipynb\n",
    "import import_ipynb"
   ]
  },
  {
   "cell_type": "code",
   "execution_count": null,
   "metadata": {
    "id": "Z0PwedTqs_Lc"
   },
   "outputs": [],
   "source": [
    "!cp -r \"/content/gdrive/My Drive/ProjectCode/Proj_01_phase_03_VandanaPathak_Model_Architecture.ipynb\" '/content/'"
   ]
  },
  {
   "cell_type": "code",
   "execution_count": null,
   "metadata": {
    "colab": {
     "base_uri": "https://localhost:8080/"
    },
    "executionInfo": {
     "elapsed": 7798,
     "status": "ok",
     "timestamp": 1663506353250,
     "user": {
      "displayName": "Rakesh Kumar Mishra",
      "userId": "16512964923167946365"
     },
     "user_tz": -330
    },
    "id": "96D7jj7ytFn9",
    "outputId": "a9d85acd-ddfb-416d-c2ee-09bb493489c0"
   },
   "outputs": [
    {
     "name": "stdout",
     "output_type": "stream",
     "text": [
      "importing Jupyter notebook from Model_Architecture.ipynb\n",
      "Looking in indexes: https://pypi.org/simple, https://us-python.pkg.dev/colab-wheels/public/simple/\n",
      "Requirement already satisfied: keras in /usr/local/lib/python3.7/dist-packages (2.8.0)\n"
     ]
    }
   ],
   "source": [
    "from Proj_01_phase_03_VandanaPathak_Model_Architecture import Residual, Encoder, Decoder, Manipulator"
   ]
  },
  {
   "cell_type": "code",
   "execution_count": null,
   "metadata": {
    "id": "D5VEVygotM2e"
   },
   "outputs": [],
   "source": [
    "import tensorflow as tf"
   ]
  },
  {
   "cell_type": "code",
   "execution_count": null,
   "metadata": {
    "id": "br1_iXQNtKwE"
   },
   "outputs": [],
   "source": [
    "#Build Model\n",
    "def build_model():\n",
    "  frameA  = tf.keras.Input(shape=(384,384,3))\n",
    "  frameB = tf.keras.Input(shape=(384,384,3))\n",
    "  amp_factor = tf.keras.Input(shape = (1,1,1))\n",
    "\n",
    "  encoder = Encoder()\n",
    "\n",
    "  texture_A , shape_A  = encoder(frameA)\n",
    "  texture_B , shape_B = encoder(frameB)\n",
    "\n",
    "  manipulator = Manipulator()\n",
    "  manipulator_output = manipulator([shape_A,shape_B,amp_factor])\n",
    "\n",
    "  decoder = Decoder()\n",
    "\n",
    "  output = decoder([texture_B,manipulator_output])\n",
    "  model = tf.keras.Model(inputs = [frameA,frameB,amp_factor], outputs = output)\n",
    "  \n",
    "  return model"
   ]
  },
  {
   "cell_type": "code",
   "execution_count": null,
   "metadata": {
    "colab": {
     "base_uri": "https://localhost:8080/"
    },
    "executionInfo": {
     "elapsed": 1512,
     "status": "ok",
     "timestamp": 1663506432760,
     "user": {
      "displayName": "Rakesh Kumar Mishra",
      "userId": "16512964923167946365"
     },
     "user_tz": -330
    },
    "id": "al7RSvOBta5D",
    "outputId": "0ce10dc7-5b4e-4f62-deac-0740849422af"
   },
   "outputs": [
    {
     "name": "stdout",
     "output_type": "stream",
     "text": [
      "Model: \"model\"\n",
      "__________________________________________________________________________________________________\n",
      " Layer (type)                   Output Shape         Param #     Connected to                     \n",
      "==================================================================================================\n",
      " input_2 (InputLayer)           [(None, 384, 384, 3  0           []                               \n",
      "                                )]                                                                \n",
      "                                                                                                  \n",
      " input_1 (InputLayer)           [(None, 384, 384, 3  0           []                               \n",
      "                                )]                                                                \n",
      "                                                                                                  \n",
      " encoder (Encoder)              ((None, 96, 96, 32)  156768      ['input_1[0][0]',                \n",
      "                                , (None, 192, 192,                'input_2[0][0]']                \n",
      "                                32))                                                              \n",
      "                                                                                                  \n",
      " input_3 (InputLayer)           [(None, 1, 1, 1)]    0           []                               \n",
      "                                                                                                  \n",
      " manipulator (Manipulator)      (None, 192, 192, 32  37248       ['encoder[0][1]',                \n",
      "                                )                                 'encoder[1][1]',                \n",
      "                                                                  'input_3[0][0]']                \n",
      "                                                                                                  \n",
      " decoder (Decoder)              (None, 384, 384, 3)  692483      ['encoder[1][0]',                \n",
      "                                                                  'manipulator[0][0]']            \n",
      "                                                                                                  \n",
      "==================================================================================================\n",
      "Total params: 886,499\n",
      "Trainable params: 883,171\n",
      "Non-trainable params: 3,328\n",
      "__________________________________________________________________________________________________\n"
     ]
    }
   ],
   "source": [
    "# Trainable Data Summary after Build Model\n",
    "model = build_model()\n",
    "model.summary()"
   ]
  },
  {
   "cell_type": "code",
   "execution_count": null,
   "metadata": {
    "id": "XcbEdGV4th2V"
   },
   "outputs": [],
   "source": [
    "# Compile Model with Mean Squared Error\n",
    "model.compile(tf.keras.optimizers.Adam(0.0001), tf.keras.losses.MeanSquaredError())"
   ]
  },
  {
   "cell_type": "code",
   "execution_count": null,
   "metadata": {
    "id": "8kP_S2JNtlh8"
   },
   "outputs": [],
   "source": [
    "# Save model\n",
    "model.save(\"/content/gdrive/MyDrive/ProjectCode1/savedmodel30k/\")"
   ]
  }
 ],
 "metadata": {
  "colab": {
   "authorship_tag": "ABX9TyMMQuasVB+OLS9MRUTV9AmY",
   "collapsed_sections": [],
   "provenance": []
  },
  "kernelspec": {
   "display_name": "Python 3",
   "language": "python",
   "name": "python3"
  },
  "language_info": {
   "codemirror_mode": {
    "name": "ipython",
    "version": 3
   },
   "file_extension": ".py",
   "mimetype": "text/x-python",
   "name": "python",
   "nbconvert_exporter": "python",
   "pygments_lexer": "ipython3",
   "version": "3.8.5"
  }
 },
 "nbformat": 4,
 "nbformat_minor": 1
}
